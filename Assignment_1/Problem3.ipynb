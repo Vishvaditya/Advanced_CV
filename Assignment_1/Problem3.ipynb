{
  "nbformat": 4,
  "nbformat_minor": 0,
  "metadata": {
    "colab": {
      "provenance": [],
      "gpuType": "T4"
    },
    "kernelspec": {
      "name": "python3",
      "display_name": "Python 3"
    },
    "language_info": {
      "name": "python"
    },
    "accelerator": "GPU"
  },
  "cells": [
    {
      "cell_type": "code",
      "execution_count": null,
      "metadata": {
        "id": "DrlEglXadKfK"
      },
      "outputs": [],
      "source": [
        "import torch\n",
        "import torch.nn as nn\n",
        "import torchvision\n",
        "import torchvision.transforms as transforms\n",
        "from torchvision.models import vgg16\n",
        "import matplotlib.pyplot as plt\n",
        "\n",
        "# Device config\n",
        "device = torch.device('cuda' if torch.cuda.is_available() else 'cpu')"
      ]
    },
    {
      "cell_type": "code",
      "source": [
        "# Load CIFAR-10 data\n",
        "transform = transforms.Compose([\n",
        "    transforms.Resize((224, 224)),  # VGG-16 expects 224x224\n",
        "    transforms.ToTensor(),\n",
        "    transforms.Normalize(mean=[0.485, 0.456, 0.406],  # ImageNet mean\n",
        "                         std=[0.229, 0.224, 0.225])   # ImageNet std\n",
        "])\n",
        "\n",
        "# Load a small subset for faster processing\n",
        "subset_size = 100  # You can change this\n",
        "train_dataset = torchvision.datasets.CIFAR10(root='./data', train=True,\n",
        "                                             download=True, transform=transform)\n",
        "subset_loader = torch.utils.data.DataLoader(\n",
        "    torch.utils.data.Subset(train_dataset, list(range(subset_size))),\n",
        "    batch_size=10, shuffle=False)"
      ],
      "metadata": {
        "id": "F18DzKGt0jex"
      },
      "execution_count": null,
      "outputs": []
    },
    {
      "cell_type": "code",
      "source": [
        "# Load pretrained VGG-16\n",
        "\n",
        "## Write the code to extract features from the penultimate layer:\n",
        "  ## YOUR CODE ##\n",
        "\n",
        "print(f\"Feature shape from penultimate layer: \")"
      ],
      "metadata": {
        "id": "8m1SGeD10joh"
      },
      "execution_count": null,
      "outputs": []
    },
    {
      "cell_type": "code",
      "source": [
        "## Write the code to visualize feature maps:\n",
        "\n",
        "## YOUR CODE\n",
        "\n",
        "\n",
        "## Display results on a randomly chosen image .."
      ],
      "metadata": {
        "id": "sSZwoYR015nq"
      },
      "execution_count": null,
      "outputs": []
    }
  ]
}